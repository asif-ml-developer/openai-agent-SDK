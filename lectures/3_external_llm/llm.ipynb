{
  "nbformat": 4,
  "nbformat_minor": 0,
  "metadata": {
    "colab": {
      "provenance": []
    },
    "kernelspec": {
      "name": "python3",
      "display_name": "Python 3"
    },
    "language_info": {
      "name": "python"
    }
  },
  "cells": [
    {
      "cell_type": "code",
      "execution_count": 10,
      "metadata": {
        "id": "ZOTJuwJcNuhL"
      },
      "outputs": [],
      "source": [
        "%%capture --no-stderr\n",
        "!pip install -Uq openai-agents"
      ]
    },
    {
      "cell_type": "code",
      "source": [
        "import os\n",
        "from google.colab import userdata\n",
        "gemini_api_key = userdata.get(\"GEMINI_API_KEY\")"
      ],
      "metadata": {
        "id": "I3Wv5DjkplWK"
      },
      "execution_count": 11,
      "outputs": []
    },
    {
      "cell_type": "code",
      "source": [
        "# https://openai.github.io/openai-agents-python/config/\n",
        "from openai import AsyncOpenAI\n",
        "from agents import set_default_openai_client, OpenAIChatCompletionsModel, RunConfig\n",
        "\n",
        "custom_client = AsyncOpenAI(\n",
        "    api_key=gemini_api_key,\n",
        "    base_url=\"https://generativelanguage.googleapis.com/v1beta/openai/\",\n",
        ")\n",
        "model = OpenAIChatCompletionsModel(\n",
        "    model=\"gemini-2.0-flash\",\n",
        "    openai_client=custom_client\n",
        ")\n",
        "\n",
        "config = RunConfig(\n",
        "    model=model,\n",
        "    model_provider=custom_client,\n",
        "    tracing_disabled=True\n",
        ")\n",
        "set_default_openai_client(custom_client)"
      ],
      "metadata": {
        "id": "RuCWvN_hpxRp"
      },
      "execution_count": 12,
      "outputs": []
    },
    {
      "cell_type": "code",
      "source": [
        "import nest_asyncio\n",
        "nest_asyncio.apply()"
      ],
      "metadata": {
        "id": "wo_KgCN23tr3"
      },
      "execution_count": 17,
      "outputs": []
    },
    {
      "cell_type": "markdown",
      "source": [
        "# sync\n"
      ],
      "metadata": {
        "id": "hhn2q3Y04XKK"
      }
    },
    {
      "cell_type": "code",
      "source": [
        "from agents import Agent, Runner\n",
        "agent: Agent = Agent(name=\"Poem Writer\", instructions=\"You are a helpful assistant to write poem\", model=model)\n",
        "\n",
        "result = Runner.run_sync(agent, \"write poem on unity\", run_config=config)\n",
        "\n",
        "print(\"\\nCALLING AGENT\\n\")\n",
        "print(result.final_output)\n"
      ],
      "metadata": {
        "colab": {
          "base_uri": "https://localhost:8080/"
        },
        "id": "iBn_j9Sk4IbK",
        "outputId": "4e5722d4-4f8b-4c08-a9cf-7b8da1e1b3b2"
      },
      "execution_count": 18,
      "outputs": [
        {
          "output_type": "stream",
          "name": "stderr",
          "text": [
            "/usr/lib/python3.11/codeop.py:125: RuntimeWarning: coroutine 'main' was never awaited\n",
            "  codeob = compile(source, filename, symbol, flags, True)\n",
            "RuntimeWarning: Enable tracemalloc to get the object allocation traceback\n",
            "/usr/lib/python3.11/codeop.py:125: RuntimeWarning: coroutine 'Runner.run' was never awaited\n",
            "  codeob = compile(source, filename, symbol, flags, True)\n",
            "RuntimeWarning: Enable tracemalloc to get the object allocation traceback\n"
          ]
        },
        {
          "output_type": "stream",
          "name": "stdout",
          "text": [
            "\n",
            "CALLING AGENT\n",
            "\n",
            "Okay, I'll write a poem about unity. Here it is:\n",
            "\n",
            "**Threads of Gold**\n",
            "\n",
            "A tapestry of colors, bold and bright,\n",
            "Each thread distinct, a vibrant, single light.\n",
            "But separate strands, though beautiful and free,\n",
            "Lack the strength and grace of unity.\n",
            "\n",
            "Imagine crimson, sapphire, emerald green,\n",
            "Alone, they shimmer, a captivating scene.\n",
            "But woven close, with silver, white, and grey,\n",
            "A richer story, they begin to say.\n",
            "\n",
            "For in the joining, strength begins to bloom,\n",
            "Dispelling shadows, banishing the gloom.\n",
            "The fragile threads, now bound with purpose true,\n",
            "Can weather storms, and see a vision through.\n",
            "\n",
            "Though differences may seem to pull apart,\n",
            "A common thread resides in every heart.\n",
            "A yearning deep, for kinship and for peace,\n",
            "Where understanding helps all striving cease.\n",
            "\n",
            "So let us weave, with kindness and with care,\n",
            "A tapestry of hope beyond compare.\n",
            "Where every color finds its rightful place,\n",
            "And unity shines forth with radiant grace.\n",
            "\n"
          ]
        }
      ]
    },
    {
      "cell_type": "markdown",
      "source": [
        "# async"
      ],
      "metadata": {
        "id": "uwh7CVV04cVE"
      }
    },
    {
      "cell_type": "code",
      "source": [
        "\n",
        "import asyncio\n",
        "\n",
        "from agents import Agent, Runner\n",
        "\n",
        "\n",
        "async def main():\n",
        "    agent = Agent(\n",
        "        name=\"Poem Writer\",\n",
        "        instructions=\"You are a helpful assistant to write poem\",\n",
        "    )\n",
        "\n",
        "    result = await Runner.run(agent, \"write poem on unity\",run_config=config)\n",
        "    print(result.final_output)\n",
        "    # Function calls itself,\n",
        "    # Looping in smaller pieces,\n",
        "    # Endless by design.\n",
        "\n",
        "\n",
        "if __name__ == \"__main__\":\n",
        "    asyncio.run(main())\n"
      ],
      "metadata": {
        "colab": {
          "base_uri": "https://localhost:8080/"
        },
        "id": "xJSArZlj4-lB",
        "outputId": "351f2a79-ed31-445e-977f-a2177d4bc20a"
      },
      "execution_count": 19,
      "outputs": [
        {
          "output_type": "stream",
          "name": "stdout",
          "text": [
            "Okay, I'll craft a poem about unity. Here's what I came up with:\n",
            "\n",
            "**Threads of Gold**\n",
            "\n",
            "A single thread, so frail and thin,\n",
            "Can snap with ease, the fight to win.\n",
            "But woven tight with countless more,\n",
            "A tapestry of strength to explore.\n",
            "\n",
            "From different looms, the colors gleam,\n",
            "A vibrant blend, a waking dream.\n",
            "Though patterns shift and hues may stray,\n",
            "The common warp will light the way.\n",
            "\n",
            "For in the weave, a bond we find,\n",
            "A shared connection of the mind.\n",
            "No longer separate, alone, and lost,\n",
            "But strengthened by the binding cost.\n",
            "\n",
            "Let empathy our shuttle be,\n",
            "To weave a world for all to see.\n",
            "Where differences like threads combine,\n",
            "A masterpiece, divinely fine.\n",
            "\n",
            "So let us join, with open hand,\n",
            "And build a future, understand,\n",
            "That unity, a golden thread,\n",
            "Will conquer all, and banish dread.\n",
            "\n"
          ]
        }
      ]
    },
    {
      "cell_type": "markdown",
      "source": [
        "# extra work"
      ],
      "metadata": {
        "id": "xWu6GZtNhe1S"
      }
    },
    {
      "cell_type": "code",
      "source": [
        "# https://ai.google.dev/gemini-api/docs/openai\n",
        "\n",
        "from openai import OpenAI\n",
        "\n",
        "client = OpenAI(\n",
        "    api_key=gemini_api_key,\n",
        "    base_url=\"https://generativelanguage.googleapis.com/v1beta/openai/\"\n",
        ")\n",
        "\n",
        "response = client.chat.completions.create(\n",
        "    model=\"gemini-2.0-flash\",\n",
        "    n=1,\n",
        "    messages=[\n",
        "        {\"role\": \"system\", \"content\": \"You are a helpful assistant.\"},\n",
        "        {\n",
        "            \"role\": \"user\",\n",
        "            \"content\": \"Explain to me how AI works\"\n",
        "        }\n",
        "    ]\n",
        ")\n",
        "\n",
        "print(response.choices[0].message)"
      ],
      "metadata": {
        "colab": {
          "base_uri": "https://localhost:8080/"
        },
        "id": "CO2GkEo_gxt-",
        "outputId": "25d2d0ca-0ea5-47fd-eeef-b5dea18bb544"
      },
      "execution_count": 20,
      "outputs": [
        {
          "output_type": "stream",
          "name": "stdout",
          "text": [
            "ChatCompletionMessage(content='Alright, let\\'s break down how AI works! It\\'s a big topic, but I\\'ll try to simplify it as much as possible.\\n\\n**At its Core: AI is About Enabling Computers to Mimic Human Intelligence**\\n\\nInstead of just following pre-programmed instructions, AI aims to make computers:\\n\\n*   **Learn:** Improve their performance based on data.\\n*   **Reason:**  Solve problems and make decisions.\\n*   **Perceive:** Understand the world through senses like sight, sound, and language.\\n*   **Adapt:** Adjust to new situations.\\n\\n**The Key Components and Techniques**\\n\\nThink of AI as an umbrella term covering several techniques and approaches. Here are some of the most important ones:\\n\\n1.  **Machine Learning (ML): The Engine of AI**\\n\\n    *   **What it is:**  ML is the most common approach to AI. Instead of being explicitly programmed with rules, ML algorithms learn patterns and relationships from data. The more data they have, the better they become at their task.\\n    *   **How it works:**\\n        *   **Data:** ML algorithms are fed large amounts of data. This data is often \"labeled\" (e.g., images of cats labeled \"cat,\" or customer reviews labeled \"positive\" or \"negative\").\\n        *   **Algorithms:**  ML uses various algorithms to identify patterns. Some popular types include:\\n            *   **Supervised Learning:** The algorithm learns from labeled data to predict outputs for new, unseen data.  Examples: predicting housing prices based on features like size and location, or classifying emails as spam or not spam.\\n            *   **Unsupervised Learning:**  The algorithm learns from unlabeled data to find hidden structures or patterns.  Examples: grouping customers into segments based on their purchasing behavior, or detecting anomalies in network traffic.\\n            *   **Reinforcement Learning:** The algorithm learns by trial and error, receiving rewards or penalties for its actions in an environment.  Examples: training a robot to navigate a maze, or developing an AI to play a game like Go.\\n        *   **Training:** The algorithm \"trains\" on the data, adjusting its internal parameters to improve its accuracy.\\n        *   **Evaluation:**  After training, the algorithm is tested on new data to see how well it generalizes.\\n    *   **Example:** Imagine you want to train an ML model to recognize cats in images. You would:\\n        1.  Gather thousands of images of cats and label them as \"cat.\"\\n        2.  Feed these images to a supervised learning algorithm.\\n        3.  The algorithm analyzes the images and learns the features that distinguish cats from other objects (e.g., pointy ears, whiskers, etc.).\\n        4.  After training, you can give the model a new image, and it will predict whether or not it contains a cat.\\n\\n2.  **Deep Learning (DL):  A Subfield of ML**\\n\\n    *   **What it is:** DL is a more advanced type of machine learning that uses artificial neural networks with multiple layers (hence \"deep\").\\n    *   **How it works:**\\n        *   **Neural Networks:**  Inspired by the structure of the human brain, neural networks consist of interconnected nodes (neurons) organized in layers.\\n        *   **Deep Layers:** The \"deep\" layers allow the network to learn complex and hierarchical features from data. For example, in image recognition, the first layers might detect edges and corners, while deeper layers combine these features to recognize objects like eyes, noses, and faces.\\n        *   **Automatic Feature Extraction:**  Unlike traditional ML, DL models can automatically learn the relevant features from data, without requiring manual feature engineering.\\n    *   **Why it\\'s powerful:** DL has achieved remarkable results in areas like image recognition, natural language processing, and speech recognition.\\n    *   **Example:**  Self-driving cars use deep learning to process images from cameras and other sensors, allowing them to identify objects like pedestrians, traffic lights, and other vehicles.\\n\\n3.  **Natural Language Processing (NLP): Understanding and Generating Human Language**\\n\\n    *   **What it is:** NLP focuses on enabling computers to understand, interpret, and generate human language (text and speech).\\n    *   **How it works:** NLP uses techniques from linguistics, computer science, and machine learning to process and analyze language data.\\n    *   **Applications:**\\n        *   **Machine Translation:** Translating text from one language to another (e.g., Google Translate).\\n        *   **Chatbots:**  Creating conversational agents that can interact with humans (e.g., customer service chatbots).\\n        *   **Sentiment Analysis:**  Determining the emotional tone of a piece of text (e.g., analyzing customer reviews to see if they are positive or negative).\\n        *   **Text Summarization:**  Generating concise summaries of long documents.\\n        *   **Speech Recognition:** Converting spoken language into text (e.g., Siri, Alexa).\\n\\n4.  **Computer Vision:  Enabling Computers to \"See\"**\\n\\n    *   **What it is:** Computer vision focuses on enabling computers to \"see\" and interpret images and videos, much like humans do.\\n    *   **How it works:** Computer vision uses techniques from image processing, pattern recognition, and machine learning to analyze visual data.\\n    *   **Applications:**\\n        *   **Image Recognition:** Identifying objects, people, and scenes in images (e.g., facial recognition).\\n        *   **Object Detection:**  Locating and identifying multiple objects within an image (e.g., detecting cars and pedestrians in a self-driving car).\\n        *   **Image Segmentation:**  Dividing an image into regions based on different features (e.g., separating the foreground from the background).\\n\\n5.  **Robotics:  Combining AI with Physical Action**\\n\\n    *   **What it is:** Robotics combines AI with engineering to design, build, and operate robots that can perform tasks autonomously or semi-autonomously.\\n    *   **How it works:** AI algorithms are used to control the robot\\'s movements, perception, and decision-making.\\n    *   **Applications:**\\n        *   **Manufacturing:**  Robots are used in factories to perform repetitive tasks like welding, assembly, and packaging.\\n        *   **Healthcare:**  Robots are used in surgery, rehabilitation, and drug delivery.\\n        *   **Exploration:**  Robots are used to explore dangerous or inaccessible environments, such as deep sea or outer space.\\n\\n**The AI Development Process (Simplified)**\\n\\n1.  **Define the Problem:**  What do you want the AI to do?\\n2.  **Gather Data:** Collect relevant data to train the AI model.  The quality and quantity of data are crucial.\\n3.  **Choose an Algorithm:** Select the appropriate ML or DL algorithm based on the problem and data.\\n4.  **Train the Model:**  Feed the data to the algorithm and let it learn.\\n5.  **Evaluate the Model:**  Test the model\\'s performance and make adjustments as needed.\\n6.  **Deploy the Model:**  Integrate the AI model into a real-world application.\\n7.  **Monitor and Improve:** Continuously monitor the model\\'s performance and retrain it with new data to keep it accurate and up-to-date.\\n\\n**Important Considerations**\\n\\n*   **Data is King (or Queen):**  The quality and quantity of data are crucial for training effective AI models. Garbage in, garbage out!\\n*   **Bias:** AI models can inherit biases from the data they are trained on, leading to unfair or discriminatory outcomes.  It\\'s important to be aware of and mitigate bias in AI systems.\\n*   **Ethics:** As AI becomes more powerful, it raises important ethical questions about privacy, accountability, and the potential impact on society.\\n*   **Explainability:**  Understanding how AI models make decisions is important, especially in high-stakes applications.  \"Black box\" models can be difficult to trust.\\n\\n**In Summary**\\n\\nAI is a broad field with many different approaches. Machine learning, especially deep learning, is the driving force behind many of the recent advances. AI systems learn from data, enabling them to perform tasks that traditionally required human intelligence. As AI continues to evolve, it has the potential to transform many aspects of our lives. I hope that helps! Let me know if you have any other questions.\\n', refusal=None, role='assistant', annotations=None, audio=None, function_call=None, tool_calls=None)\n"
          ]
        }
      ]
    }
  ]
}